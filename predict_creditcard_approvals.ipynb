{
 "cells": [
  {
   "cell_type": "code",
   "execution_count": 3,
   "id": "71a576e9",
   "metadata": {},
   "outputs": [],
   "source": [
    "#load the dataset and inspect the data\n",
    "import pandas as pd\n",
    "import seaborn as sns\n",
    "import matplotlib.pyplot as plt"
   ]
  },
  {
   "cell_type": "code",
   "execution_count": 4,
   "id": "a638620d",
   "metadata": {},
   "outputs": [
    {
     "name": "stdout",
     "output_type": "stream",
     "text": [
      "        ID CODE_GENDER FLAG_OWN_CAR FLAG_OWN_REALTY  CNT_CHILDREN  \\\n",
      "0  5008804           M            Y               Y             0   \n",
      "1  5008805           M            Y               Y             0   \n",
      "2  5008806           M            Y               Y             0   \n",
      "3  5008808           F            N               Y             0   \n",
      "4  5008809           F            N               Y             0   \n",
      "\n",
      "   AMT_INCOME_TOTAL      NAME_INCOME_TYPE            NAME_EDUCATION_TYPE  \\\n",
      "0          427500.0               Working               Higher education   \n",
      "1          427500.0               Working               Higher education   \n",
      "2          112500.0               Working  Secondary / secondary special   \n",
      "3          270000.0  Commercial associate  Secondary / secondary special   \n",
      "4          270000.0  Commercial associate  Secondary / secondary special   \n",
      "\n",
      "     NAME_FAMILY_STATUS  NAME_HOUSING_TYPE  DAYS_BIRTH  DAYS_EMPLOYED  \\\n",
      "0        Civil marriage   Rented apartment      -12005          -4542   \n",
      "1        Civil marriage   Rented apartment      -12005          -4542   \n",
      "2               Married  House / apartment      -21474          -1134   \n",
      "3  Single / not married  House / apartment      -19110          -3051   \n",
      "4  Single / not married  House / apartment      -19110          -3051   \n",
      "\n",
      "   FLAG_MOBIL  FLAG_WORK_PHONE  FLAG_PHONE  FLAG_EMAIL OCCUPATION_TYPE  \\\n",
      "0           1                1           0           0             NaN   \n",
      "1           1                1           0           0             NaN   \n",
      "2           1                0           0           0  Security staff   \n",
      "3           1                0           1           1     Sales staff   \n",
      "4           1                0           1           1     Sales staff   \n",
      "\n",
      "   CNT_FAM_MEMBERS  \n",
      "0              2.0  \n",
      "1              2.0  \n",
      "2              2.0  \n",
      "3              1.0  \n",
      "4              1.0  \n"
     ]
    }
   ],
   "source": [
    "dataset2 = pd.read_csv(\"/home/queen/Desktop/python/fproject/credit_approval/application_record.csv\")\n",
    "#dataset2 has features that we can use to make predictions(client personal info)\n",
    "#inspect the data\n",
    "print(dataset2.head())"
   ]
  },
  {
   "cell_type": "code",
   "execution_count": 5,
   "id": "cdd56250",
   "metadata": {},
   "outputs": [
    {
     "name": "stdout",
     "output_type": "stream",
     "text": [
      "        ID  MONTHS_BALANCE STATUS\n",
      "0  5001711               0      X\n",
      "1  5001711              -1      0\n",
      "2  5001711              -2      0\n",
      "3  5001711              -3      0\n",
      "4  5001712               0      C\n"
     ]
    }
   ],
   "source": [
    "#users behaviour of credit card\n",
    "dataset3 = pd.read_csv(\"/home/queen/Desktop/python/fproject/credit_approval/credit_record.csv\")\n",
    "print(dataset3.head())"
   ]
  },
  {
   "cell_type": "code",
   "execution_count": 6,
   "id": "06947d6c",
   "metadata": {},
   "outputs": [
    {
     "name": "stdout",
     "output_type": "stream",
     "text": [
      "                 ID   CNT_CHILDREN  AMT_INCOME_TOTAL     DAYS_BIRTH  \\\n",
      "count  4.385570e+05  438557.000000      4.385570e+05  438557.000000   \n",
      "mean   6.022176e+06       0.427390      1.875243e+05  -15997.904649   \n",
      "std    5.716370e+05       0.724882      1.100869e+05    4185.030007   \n",
      "min    5.008804e+06       0.000000      2.610000e+04  -25201.000000   \n",
      "25%    5.609375e+06       0.000000      1.215000e+05  -19483.000000   \n",
      "50%    6.047745e+06       0.000000      1.607805e+05  -15630.000000   \n",
      "75%    6.456971e+06       1.000000      2.250000e+05  -12514.000000   \n",
      "max    7.999952e+06      19.000000      6.750000e+06   -7489.000000   \n",
      "\n",
      "       DAYS_EMPLOYED  FLAG_MOBIL  FLAG_WORK_PHONE     FLAG_PHONE  \\\n",
      "count  438557.000000    438557.0    438557.000000  438557.000000   \n",
      "mean    60563.675328         1.0         0.206133       0.287771   \n",
      "std    138767.799647         0.0         0.404527       0.452724   \n",
      "min    -17531.000000         1.0         0.000000       0.000000   \n",
      "25%     -3103.000000         1.0         0.000000       0.000000   \n",
      "50%     -1467.000000         1.0         0.000000       0.000000   \n",
      "75%      -371.000000         1.0         0.000000       1.000000   \n",
      "max    365243.000000         1.0         1.000000       1.000000   \n",
      "\n",
      "          FLAG_EMAIL  CNT_FAM_MEMBERS  \n",
      "count  438557.000000    438557.000000  \n",
      "mean        0.108207         2.194465  \n",
      "std         0.310642         0.897207  \n",
      "min         0.000000         1.000000  \n",
      "25%         0.000000         2.000000  \n",
      "50%         0.000000         2.000000  \n",
      "75%         0.000000         3.000000  \n",
      "max         1.000000        20.000000  \n",
      "\n",
      "\n",
      "\n",
      "                 ID  MONTHS_BALANCE\n",
      "count  1.048575e+06    1.048575e+06\n",
      "mean   5.068286e+06   -1.913700e+01\n",
      "std    4.615058e+04    1.402350e+01\n",
      "min    5.001711e+06   -6.000000e+01\n",
      "25%    5.023644e+06   -2.900000e+01\n",
      "50%    5.062104e+06   -1.700000e+01\n",
      "75%    5.113856e+06   -7.000000e+00\n",
      "max    5.150487e+06    0.000000e+00\n"
     ]
    }
   ],
   "source": [
    "#statistics description of the data\n",
    "dataset2_desc = dataset2.describe()\n",
    "#display the result\n",
    "print(dataset2_desc)\n",
    "\n",
    "print(\"\\n\\n\")\n",
    "\n",
    "\n",
    "dataset3_desc = dataset3.describe()\n",
    "print(dataset3_desc)"
   ]
  },
  {
   "cell_type": "code",
   "execution_count": 7,
   "id": "74a4bb38",
   "metadata": {},
   "outputs": [
    {
     "name": "stdout",
     "output_type": "stream",
     "text": [
      "<class 'pandas.core.frame.DataFrame'>\n",
      "RangeIndex: 438557 entries, 0 to 438556\n",
      "Data columns (total 18 columns):\n",
      " #   Column               Non-Null Count   Dtype  \n",
      "---  ------               --------------   -----  \n",
      " 0   ID                   438557 non-null  int64  \n",
      " 1   CODE_GENDER          438557 non-null  object \n",
      " 2   FLAG_OWN_CAR         438557 non-null  object \n",
      " 3   FLAG_OWN_REALTY      438557 non-null  object \n",
      " 4   CNT_CHILDREN         438557 non-null  int64  \n",
      " 5   AMT_INCOME_TOTAL     438557 non-null  float64\n",
      " 6   NAME_INCOME_TYPE     438557 non-null  object \n",
      " 7   NAME_EDUCATION_TYPE  438557 non-null  object \n",
      " 8   NAME_FAMILY_STATUS   438557 non-null  object \n",
      " 9   NAME_HOUSING_TYPE    438557 non-null  object \n",
      " 10  DAYS_BIRTH           438557 non-null  int64  \n",
      " 11  DAYS_EMPLOYED        438557 non-null  int64  \n",
      " 12  FLAG_MOBIL           438557 non-null  int64  \n",
      " 13  FLAG_WORK_PHONE      438557 non-null  int64  \n",
      " 14  FLAG_PHONE           438557 non-null  int64  \n",
      " 15  FLAG_EMAIL           438557 non-null  int64  \n",
      " 16  OCCUPATION_TYPE      304354 non-null  object \n",
      " 17  CNT_FAM_MEMBERS      438557 non-null  float64\n",
      "dtypes: float64(2), int64(8), object(8)\n",
      "memory usage: 60.2+ MB\n",
      "None\n",
      "\n",
      "\n",
      "\n",
      "<class 'pandas.core.frame.DataFrame'>\n",
      "RangeIndex: 1048575 entries, 0 to 1048574\n",
      "Data columns (total 3 columns):\n",
      " #   Column          Non-Null Count    Dtype \n",
      "---  ------          --------------    ----- \n",
      " 0   ID              1048575 non-null  int64 \n",
      " 1   MONTHS_BALANCE  1048575 non-null  int64 \n",
      " 2   STATUS          1048575 non-null  object\n",
      "dtypes: int64(2), object(1)\n",
      "memory usage: 24.0+ MB\n",
      "None\n"
     ]
    }
   ],
   "source": [
    "#print out the info about the dataset\n",
    "dataset2_info = dataset2.info()\n",
    "print(dataset2_info)\n",
    "\n",
    "print(\"\\n\\n\")\n",
    "\n",
    "#dataset 3\n",
    "dataset3_info = dataset3.info()\n",
    "print(dataset3_info)"
   ]
  },
  {
   "cell_type": "code",
   "execution_count": 8,
   "id": "8e9caf54",
   "metadata": {},
   "outputs": [
    {
     "name": "stdout",
     "output_type": "stream",
     "text": [
      "        ID CODE_GENDER FLAG_OWN_CAR FLAG_OWN_REALTY  CNT_CHILDREN  \\\n",
      "0  5008804           M            Y               Y             0   \n",
      "1  5008804           M            Y               Y             0   \n",
      "2  5008804           M            Y               Y             0   \n",
      "3  5008804           M            Y               Y             0   \n",
      "4  5008804           M            Y               Y             0   \n",
      "\n",
      "   AMT_INCOME_TOTAL NAME_INCOME_TYPE NAME_EDUCATION_TYPE NAME_FAMILY_STATUS  \\\n",
      "0          427500.0          Working    Higher education     Civil marriage   \n",
      "1          427500.0          Working    Higher education     Civil marriage   \n",
      "2          427500.0          Working    Higher education     Civil marriage   \n",
      "3          427500.0          Working    Higher education     Civil marriage   \n",
      "4          427500.0          Working    Higher education     Civil marriage   \n",
      "\n",
      "  NAME_HOUSING_TYPE  DAYS_BIRTH  DAYS_EMPLOYED  FLAG_MOBIL  FLAG_WORK_PHONE  \\\n",
      "0  Rented apartment      -12005          -4542           1                1   \n",
      "1  Rented apartment      -12005          -4542           1                1   \n",
      "2  Rented apartment      -12005          -4542           1                1   \n",
      "3  Rented apartment      -12005          -4542           1                1   \n",
      "4  Rented apartment      -12005          -4542           1                1   \n",
      "\n",
      "   FLAG_PHONE  FLAG_EMAIL OCCUPATION_TYPE  CNT_FAM_MEMBERS  MONTHS_BALANCE  \\\n",
      "0           0           0             NaN              2.0               0   \n",
      "1           0           0             NaN              2.0              -1   \n",
      "2           0           0             NaN              2.0              -2   \n",
      "3           0           0             NaN              2.0              -3   \n",
      "4           0           0             NaN              2.0              -4   \n",
      "\n",
      "  STATUS  \n",
      "0      C  \n",
      "1      C  \n",
      "2      C  \n",
      "3      C  \n",
      "4      C  \n"
     ]
    }
   ],
   "source": [
    "#combine the two datasets #NaN shows the missing values\n",
    "final_dataset = pd.merge(dataset2, dataset3, on='ID', how ='inner')\n",
    "print(final_dataset.head())"
   ]
  },
  {
   "cell_type": "code",
   "execution_count": 9,
   "id": "1a1d0171",
   "metadata": {},
   "outputs": [
    {
     "data": {
      "text/plain": [
       "<AxesSubplot:>"
      ]
     },
     "execution_count": 9,
     "metadata": {},
     "output_type": "execute_result"
    },
    {
     "data": {
      "image/png": "[encoded data removed]",
      "text/plain": [
       "<Figure size 432x288 with 2 Axes>"
      ]
     },
     "metadata": {
      "needs_background": "light"
     },
     "output_type": "display_data"
    }
   ],
   "source": [
    "#check for null values\n",
    "sns.heatmap(final_dataset.isnull())"
   ]
  },
  {
   "cell_type": "code",
   "execution_count": 10,
   "id": "9596b4fc",
   "metadata": {},
   "outputs": [],
   "source": [
    "#we delete the duplicates in columns\n",
    "final_dataset = final_dataset.drop_duplicates('ID', keep = 'last')"
   ]
  },
  {
   "cell_type": "code",
   "execution_count": 11,
   "id": "22e667ac",
   "metadata": {},
   "outputs": [],
   "source": [
    "#we drop the occupation column as it has null values\n",
    "final_dataset.drop('OCCUPATION_TYPE', axis=1, inplace =True)"
   ]
  },
  {
   "cell_type": "code",
   "execution_count": 12,
   "id": "db09bce5",
   "metadata": {},
   "outputs": [
    {
     "name": "stdout",
     "output_type": "stream",
     "text": [
      "             ID CODE_GENDER FLAG_OWN_CAR FLAG_OWN_REALTY  CNT_CHILDREN  \\\n",
      "777538  5149145           M            Y               Y             0   \n",
      "777567  5149158           M            Y               Y             0   \n",
      "777579  5149190           M            Y               N             1   \n",
      "777601  5149729           M            Y               Y             0   \n",
      "777621  5149775           F            Y               Y             0   \n",
      "777633  5149828           M            Y               Y             0   \n",
      "777657  5149834           F            N               Y             0   \n",
      "777690  5149838           F            N               Y             0   \n",
      "777700  5150049           F            N               Y             0   \n",
      "777714  5150337           M            N               Y             0   \n",
      "\n",
      "        AMT_INCOME_TOTAL      NAME_INCOME_TYPE            NAME_EDUCATION_TYPE  \\\n",
      "777538          247500.0               Working  Secondary / secondary special   \n",
      "777567          247500.0               Working  Secondary / secondary special   \n",
      "777579          450000.0               Working               Higher education   \n",
      "777601           90000.0               Working  Secondary / secondary special   \n",
      "777621          130500.0               Working  Secondary / secondary special   \n",
      "777633          315000.0               Working  Secondary / secondary special   \n",
      "777657          157500.0  Commercial associate               Higher education   \n",
      "777690          157500.0             Pensioner               Higher education   \n",
      "777700          283500.0               Working  Secondary / secondary special   \n",
      "777714          112500.0               Working  Secondary / secondary special   \n",
      "\n",
      "          NAME_FAMILY_STATUS  NAME_HOUSING_TYPE  DAYS_BIRTH  DAYS_EMPLOYED  \\\n",
      "777538               Married  House / apartment      -10952          -3577   \n",
      "777567               Married  House / apartment      -10952          -3577   \n",
      "777579               Married  House / apartment       -9847           -502   \n",
      "777601               Married  House / apartment      -19101          -1721   \n",
      "777621               Married  House / apartment      -16137          -9391   \n",
      "777633               Married  House / apartment      -17348          -2420   \n",
      "777657               Married  House / apartment      -12387          -1325   \n",
      "777690               Married  House / apartment      -12387          -1325   \n",
      "777700               Married  House / apartment      -17958           -655   \n",
      "777714  Single / not married   Rented apartment       -9188          -1193   \n",
      "\n",
      "        FLAG_MOBIL  FLAG_WORK_PHONE  FLAG_PHONE  FLAG_EMAIL  CNT_FAM_MEMBERS  \\\n",
      "777538           1                1           0           0              2.0   \n",
      "777567           1                1           0           0              2.0   \n",
      "777579           1                0           1           1              3.0   \n",
      "777601           1                0           0           0              2.0   \n",
      "777621           1                0           1           0              2.0   \n",
      "777633           1                0           0           0              2.0   \n",
      "777657           1                0           1           1              2.0   \n",
      "777690           1                0           1           1              2.0   \n",
      "777700           1                0           0           0              2.0   \n",
      "777714           1                0           0           0              1.0   \n",
      "\n",
      "        MONTHS_BALANCE STATUS  \n",
      "777538             -25      0  \n",
      "777567             -28      0  \n",
      "777579             -11      0  \n",
      "777601             -21      X  \n",
      "777621             -19      X  \n",
      "777633             -11      X  \n",
      "777657             -23      0  \n",
      "777690             -32      0  \n",
      "777700              -9      0  \n",
      "777714             -13      0  \n"
     ]
    }
   ],
   "source": [
    "print(final_dataset.tail(10))"
   ]
  },
  {
   "cell_type": "code",
   "execution_count": 13,
   "id": "5eef24e1",
   "metadata": {},
   "outputs": [
    {
     "name": "stdout",
     "output_type": "stream",
     "text": [
      "<class 'pandas.core.frame.DataFrame'>\n",
      "Int64Index: 36457 entries, 15 to 777714\n",
      "Data columns (total 19 columns):\n",
      " #   Column               Non-Null Count  Dtype  \n",
      "---  ------               --------------  -----  \n",
      " 0   ID                   36457 non-null  int64  \n",
      " 1   CODE_GENDER          36457 non-null  int64  \n",
      " 2   FLAG_OWN_CAR         36457 non-null  int64  \n",
      " 3   FLAG_OWN_REALTY      36457 non-null  int64  \n",
      " 4   CNT_CHILDREN         36457 non-null  int64  \n",
      " 5   AMT_INCOME_TOTAL     36457 non-null  float64\n",
      " 6   NAME_INCOME_TYPE     36457 non-null  int64  \n",
      " 7   NAME_EDUCATION_TYPE  36457 non-null  int64  \n",
      " 8   NAME_FAMILY_STATUS   36457 non-null  int64  \n",
      " 9   NAME_HOUSING_TYPE    36457 non-null  int64  \n",
      " 10  DAYS_BIRTH           36457 non-null  int64  \n",
      " 11  DAYS_EMPLOYED        36457 non-null  int64  \n",
      " 12  FLAG_MOBIL           36457 non-null  int64  \n",
      " 13  FLAG_WORK_PHONE      36457 non-null  int64  \n",
      " 14  FLAG_PHONE           36457 non-null  int64  \n",
      " 15  FLAG_EMAIL           36457 non-null  int64  \n",
      " 16  CNT_FAM_MEMBERS      36457 non-null  float64\n",
      " 17  MONTHS_BALANCE       36457 non-null  int64  \n",
      " 18  STATUS               36457 non-null  int64  \n",
      "dtypes: float64(2), int64(17)\n",
      "memory usage: 5.6 MB\n"
     ]
    }
   ],
   "source": [
    "#preprocessing the data\n",
    "#label encoding to convert non_numeric data to numeric data this makes calculations easy\n",
    "from sklearn import preprocessing\n",
    "\n",
    "#instantiate the LabelEncoder\n",
    "le = preprocessing.LabelEncoder()\n",
    "\n",
    "#iterate over the columns and extract their dtypes\n",
    "for col in final_dataset:\n",
    "    if final_dataset[col].dtypes == 'object':\n",
    "        le.fit(final_dataset[col])\n",
    "        final_dataset[col] = le.transform(final_dataset[col])\n",
    "final_dataset.info()"
   ]
  },
  {
   "cell_type": "code",
   "execution_count": 14,
   "id": "e6bf1bb2",
   "metadata": {},
   "outputs": [],
   "source": [
    "#split the dataset into train and test set\n",
    "from sklearn.model_selection import train_test_split\n",
    "# Segregate features and labels into separate variables\n",
    "X = final_dataset.iloc[:,1:-1] # X value contains all the variables except labels\n",
    "y = final_dataset.iloc[:,-1] # these are the labels\n",
    "X_train, X_test, y_train, y_test = train_test_split(X,\n",
    "                                                   y,\n",
    "                                                   test_size = 0.33,\n",
    "                                                   random_state=42)#ensures that the splits are reproducable"
   ]
  },
  {
   "cell_type": "code",
   "execution_count": 15,
   "id": "cb3d63e1",
   "metadata": {},
   "outputs": [],
   "source": [
    "#scaling before we fit our model\n",
    "from sklearn.preprocessing import MinMaxScaler\n",
    "scaler = MinMaxScaler()\n",
    "X_trainScaled = scaler.fit_transform(X_train)\n",
    "X_testScaled = scaler.fit_transform(X_test)"
   ]
  },
  {
   "cell_type": "code",
   "execution_count": 16,
   "id": "39e38e67",
   "metadata": {},
   "outputs": [
    {
     "name": "stderr",
     "output_type": "stream",
     "text": [
      "/home/queen/Desktop/python/fproject/stock_prices/lib/python3.8/site-packages/sklearn/linear_model/_logistic.py:763: ConvergenceWarning: lbfgs failed to converge (status=1):\n",
      "STOP: TOTAL NO. of ITERATIONS REACHED LIMIT.\n",
      "\n",
      "Increase the number of iterations (max_iter) or scale the data as shown in:\n",
      "    https://scikit-learn.org/stable/modules/preprocessing.html\n",
      "Please also refer to the documentation for alternative solver options:\n",
      "    https://scikit-learn.org/stable/modules/linear_model.html#logistic-regression\n",
      "  n_iter_i = _check_optimize_result(\n"
     ]
    },
    {
     "data": {
      "text/plain": [
       "LogisticRegression()"
      ]
     },
     "execution_count": 16,
     "metadata": {},
     "output_type": "execute_result"
    }
   ],
   "source": [
    "#fit the logistic regression model\n",
    "from sklearn.linear_model import LogisticRegression\n",
    "# Instantiate a LogisticRegression classifier with default parameter values\n",
    "logreg = LogisticRegression()\n",
    "# Fit logreg to the train set\n",
    "logreg.fit(X_trainScaled, y_train)"
   ]
  },
  {
   "cell_type": "code",
   "execution_count": 17,
   "id": "cf7ecbb7",
   "metadata": {},
   "outputs": [
    {
     "name": "stdout",
     "output_type": "stream",
     "text": [
      "Accuracy of logistic regression classifier:  0.5931\n",
      "[[7130    0    0    0    2]\n",
      " [   4    0    0    0    0]\n",
      " [   1    0    0    0    0]\n",
      " [  95    0    0    0    0]\n",
      " [4793    0    0    0    6]]\n"
     ]
    }
   ],
   "source": [
    "# Import confusion_matrix\n",
    "from sklearn.metrics import confusion_matrix\n",
    "\n",
    "# Use logreg to predict instances from the test set and store it\n",
    "y_pred = logreg.predict(X_testScaled)\n",
    "\n",
    "# Get the accuracy score of logreg model and print it\n",
    "print(\"Accuracy of logistic regression classifier: \", logreg.score(X_testScaled, y_test).round(4))\n",
    "\n",
    "# Print the confusion matrix of the logreg model\n",
    "#the first element of the of the first row of the confusion matrix denotes the true negatives meaning the number of negative instances (denied applications)\n",
    "#the last element of the second row of the confusion matrix denotes the true positives meaning the number of positive instances (approved applications) \n",
    "print(confusion_matrix(y_test, y_pred))"
   ]
  },
  {
   "cell_type": "code",
   "execution_count": 18,
   "id": "514e9299",
   "metadata": {},
   "outputs": [],
   "source": [
    "# Import GridSearchCV\n",
    "from sklearn.model_selection import GridSearchCV\n",
    "\n",
    "# Define the grid of values for tol and max_iter\n",
    "tol = [0.01, 0.001, 0.0001]\n",
    "max_iter = [300,350,400]\n",
    "\n",
    "# Create a dictionary where tol and max_iter are keys and the lists of their values are corresponding values\n",
    "param_grid = dict(tol = tol, max_iter = max_iter)"
   ]
  },
  {
   "cell_type": "code",
   "execution_count": null,
   "id": "b9ddfc8b",
   "metadata": {},
   "outputs": [],
   "source": [
    "#Instantiate GridSearchCV with the required parameters\n",
    "grid_model = GridSearchCV(estimator=logreg, param_grid= param_grid, cv=5)\n",
    "\n",
    "# Use scaler to rescale X and assign it to rescaledX\n",
    "XScaled = scaler.fit_transform(X)\n",
    "\n",
    "# Fit data to grid_model\n",
    "grid_model_result = grid_model.fit(XScaled, y)\n",
    "\n",
    "# Summarize results\n",
    "best_score, best_params = grid_model_result.best_score_, grid_model_result.best_params_\n",
    "print(\"Best: %f using %s\" % (best_score, best_params))"
   ]
  },
  {
   "cell_type": "code",
   "execution_count": null,
   "id": "993a8f44",
   "metadata": {},
   "outputs": [],
   "source": []
  }
 ],
 "metadata": {
  "kernelspec": {
   "display_name": "Python 3",
   "language": "python",
   "name": "python3"
  },
  "language_info": {
   "codemirror_mode": {
    "name": "ipython",
    "version": 3
   },
   "file_extension": ".py",
   "mimetype": "text/x-python",
   "name": "python",
   "nbconvert_exporter": "python",
   "pygments_lexer": "ipython3",
   "version": "3.8.5"
  }
 },
 "nbformat": 4,
 "nbformat_minor": 5
}
